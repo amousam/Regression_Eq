{
 "cells": [
  {
   "cell_type": "code",
   "execution_count": null,
   "metadata": {
    "collapsed": true
   },
   "outputs": [],
   "source": [
    "#Function \n",
    "import sys\n",
    "modpath = r'C:\\Users\\amousam\\Desktop\\Regression_Eq'\n",
    "sys.path.append(modpath)\n",
    "from RegressionFlows import *\n",
    "\n",
    "#inputs \n",
    "A, ST, RUNF, SR = 57.1, 0.54, 22.3, 0.0482 \n",
    "r4_qs(A,ST,RUNF,SR)\n"
   ]
  }
 ],
 "metadata": {
  "anaconda-cloud": {},
  "kernelspec": {
   "display_name": "Python [Root]",
   "language": "python",
   "name": "Python [Root]"
  },
  "language_info": {
   "codemirror_mode": {
    "name": "ipython",
    "version": 2
   },
   "file_extension": ".py",
   "mimetype": "text/x-python",
   "name": "python",
   "nbconvert_exporter": "python",
   "pygments_lexer": "ipython2",
   "version": "2.7.12"
  }
 },
 "nbformat": 4,
 "nbformat_minor": 0
}
